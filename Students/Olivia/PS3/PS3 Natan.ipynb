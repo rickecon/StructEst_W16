{
 "cells": [
  {
   "cell_type": "markdown",
   "metadata": {},
   "source": [
    "Problem Set 3\n",
    "\n",
    "Olivia Natan\n",
    "\n"
   ]
  },
  {
   "cell_type": "code",
   "execution_count": 1,
   "metadata": {
    "collapsed": false
   },
   "outputs": [],
   "source": [
    "import pandas as pd\n",
    "import numpy as np\n",
    "import matplotlib.pyplot as mpl\n",
    "import seaborn as sns\n",
    "import scipy.stats as sts\n",
    "\n",
    "%matplotlib inline"
   ]
  },
  {
   "cell_type": "markdown",
   "metadata": {},
   "source": [
    "MLE estimation of a simple macroeconomic model\n",
    "\n",
    "We observe 100 quarters of time series data on the following variables: $(c_t, k_t, w_t, r_t)$, which are aggregate consumption, last period's household savings, wage per unit labor, and the interest rate (return on investment), respectively. Aggregate productivity is $z_t$, which follows an AR(1) process as shown below.\n",
    "\n",
    "We assume the following model: $$ (c_t)^{-1} - \\beta E[r_{t+1} c_{t+1}^{-1}]=0$$\n",
    "$$c_t + k_{t+1} − w_t − r_t k_t = 0 $$\n",
    "$$w_t - (1-\\alpha)exp(z_t) k_t^{\\alpha}=0$$\n",
    "$$r_t - \\alpha exp(z_t) k_t^{\\alpha-1}=0$$\n",
    "$$z_t = \\rho z_{t-1} + (1-\\rho) \\mu + \\epsilon_t$$\n",
    "$$where \\;\\; \\epsilon_t \\sim N(0, \\sigma^2)$$\n",
    "\n",
    "\n",
    "We want to estimate $(\\alpha, \\beta, \\rho, \\mu, \\sigma)$ where   $\\alpha ,\\beta \\in (0,1)$, $\\mu, \\sigma >0$ and $\\rho \\in (-1, 1)$."
   ]
  },
  {
   "cell_type": "code",
   "execution_count": 2,
   "metadata": {
    "collapsed": false
   },
   "outputs": [
    {
     "data": {
      "text/html": [
       "<div>\n",
       "<table border=\"1\" class=\"dataframe\">\n",
       "  <thead>\n",
       "    <tr style=\"text-align: right;\">\n",
       "      <th></th>\n",
       "      <th>ct</th>\n",
       "      <th>kt</th>\n",
       "      <th>wt</th>\n",
       "      <th>rt</th>\n",
       "      <th>tt</th>\n",
       "    </tr>\n",
       "  </thead>\n",
       "  <tbody>\n",
       "    <tr>\n",
       "      <th>0</th>\n",
       "      <td>10671094.090618</td>\n",
       "      <td>8040697.000000</td>\n",
       "      <td>10594376.194040</td>\n",
       "      <td>0.954120</td>\n",
       "      <td>1</td>\n",
       "    </tr>\n",
       "    <tr>\n",
       "      <th>1</th>\n",
       "      <td>11694867.840305</td>\n",
       "      <td>7595071.761176</td>\n",
       "      <td>11610789.707937</td>\n",
       "      <td>1.107009</td>\n",
       "      <td>2</td>\n",
       "    </tr>\n",
       "    <tr>\n",
       "      <th>2</th>\n",
       "      <td>9292394.242982</td>\n",
       "      <td>8323735.104414</td>\n",
       "      <td>9225588.259037</td>\n",
       "      <td>0.802596</td>\n",
       "      <td>3</td>\n",
       "    </tr>\n",
       "    <tr>\n",
       "      <th>3</th>\n",
       "      <td>7913164.544811</td>\n",
       "      <td>6613792.410530</td>\n",
       "      <td>7856274.282763</td>\n",
       "      <td>0.860176</td>\n",
       "      <td>4</td>\n",
       "    </tr>\n",
       "    <tr>\n",
       "      <th>4</th>\n",
       "      <td>8140994.183307</td>\n",
       "      <td>5632135.942712</td>\n",
       "      <td>8082465.981373</td>\n",
       "      <td>1.039183</td>\n",
       "      <td>5</td>\n",
       "    </tr>\n",
       "  </tbody>\n",
       "</table>\n",
       "</div>"
      ],
      "text/plain": [
       "                ct              kt               wt        rt  tt\n",
       "0  10671094.090618  8040697.000000  10594376.194040  0.954120   1\n",
       "1  11694867.840305  7595071.761176  11610789.707937  1.107009   2\n",
       "2   9292394.242982  8323735.104414   9225588.259037  0.802596   3\n",
       "3   7913164.544811  6613792.410530   7856274.282763  0.860176   4\n",
       "4   8140994.183307  5632135.942712   8082465.981373  1.039183   5"
      ]
     },
     "execution_count": 2,
     "metadata": {},
     "output_type": "execute_result"
    }
   ],
   "source": [
    "# read in data\n",
    "df = pd.read_csv('MacroSeries.txt',sep=',',header=None,names=['ct','kt','wt','rt'])\n",
    "df['tt'] = df.index+1\n",
    "df.head()"
   ]
  },
  {
   "cell_type": "markdown",
   "metadata": {},
   "source": [
    "We start by assuming the following: $$ \\beta = 0.99$$ $$z_0 = \\mu \\implies z_1=\\mu + \\epsilon_1$$"
   ]
  },
  {
   "cell_type": "markdown",
   "metadata": {},
   "source": [
    "##(a)\n",
    "We want to estimate the vector of parameters $(\\alpha, \\rho, \\mu, \\sigma)$ using the data from 2 variables: $w_t$ and $k_t$. \n",
    "\n",
    "Recall we can fully pin down the likelihood from the data using the following 2 equations form above:\n",
    "$$w_t - (1-\\alpha)exp(z_t) k_t^{\\alpha}=0$$\n",
    "$$z_t = \\rho z_{t-1} + (1-\\rho) \\mu + \\epsilon_t$$\n",
    "$$where \\;\\; \\epsilon_t \\sim N(0, \\sigma^2)$$\n",
    "\n",
    "In particular, note that $$z_t - \\rho z_{t-1} - (1-\\rho) \\mu \\sim N(0,\\sigma^2)$$\n",
    "\n",
    "Take for example, the likelihood of the first period of data, where we know $z_1 = z_0 + \\epsilon_1$. In particular, then, $z_1 \\sim N(\\mu, \\sigma^2)$. \n",
    "\n",
    "We can then transform our model equation: $$ log\\left(\\frac{w_t}{(1-\\alpha) k_t^{\\alpha}}\\right) = z_t$$\n",
    "\n",
    "Thus our log-likelihood for the first period is: $$\\mathcal{L}(\\alpha,\\rho,\\mu,\\sigma|w_1,k_1) = \\phi\\left(\\frac{log\\left(\\frac{w_1}{(1-\\alpha) k_1^{\\alpha}}\\right) -\\mu}{\\sigma}\\right)$$\n",
    "\n",
    "Where $\\phi()$ is the standard normal pdf. \n",
    "\n",
    "For subsequent periods, note that $z_t | z_{t-1}, \\rho,\\mu,\\sigma \\sim N(\\rho z_{t-1} + (1-\\rho) \\mu, \\sigma^2)$, so we have $$\\mathcal{L}(\\alpha,\\rho,\\mu,\\sigma|w_t,k_t,z_{t-1}) = \\phi\\left(\\frac{log\\left(\\frac{w_t}{(1-\\alpha) k_t^{\\alpha}}\\right) -\\rho z_{t-1} - (1-\\rho) \\mu}{\\sigma}\\right) $$"
   ]
  },
  {
   "cell_type": "code",
   "execution_count": 3,
   "metadata": {
    "collapsed": true
   },
   "outputs": [],
   "source": [
    "# want to use built in pdf\n",
    "\n",
    "import scipy.stats as sts\n",
    "import numpy as np \n",
    "\n",
    "def crit_norm(params,*args):\n",
    "    #alpha_0, rho_0, mu_0, sigma_0 = params\n",
    "    #alpha = np.exp(alpha_0)/(1+ np.exp(alpha_0)) # keep in (0,1)\n",
    "    #rho = 2*(np.exp(rho_0)/(1+np.exp(rho_0))) - 1 #keep in (-1,1)\n",
    "    #mu = np.exp(mu_0)\n",
    "    #sigma = np.exp(sigma_0)\n",
    "    alpha, rho, mu, sigma = params\n",
    "    kvals = np.array(args[0])\n",
    "    wvals = np.array(args[1])\n",
    "    zvals = np.array(np.log(wvals/((1-alpha)*(kvals**alpha))))\n",
    "    lag_zvals = np.roll(zvals,1)\n",
    "    lag_zvals[0] = mu\n",
    "    mus = rho*lag_zvals + (1-rho)*mu\n",
    "    xvals = zvals-mus\n",
    "    log_lik_val = sts.norm.logpdf(xvals,loc=0,scale=sigma).sum()\n",
    "    neg_log_lik_val = -log_lik_val\n",
    "    \n",
    "    return neg_log_lik_val"
   ]
  },
  {
   "cell_type": "code",
   "execution_count": 4,
   "metadata": {
    "collapsed": false
   },
   "outputs": [
    {
     "data": {
      "text/plain": [
       "88.884066708214036"
      ]
     },
     "execution_count": 4,
     "metadata": {},
     "output_type": "execute_result"
    }
   ],
   "source": [
    "crit_norm([0.5132,0.865926,5.37711278,0.48223028],df['kt'] ,df['wt'])"
   ]
  },
  {
   "cell_type": "code",
   "execution_count": 29,
   "metadata": {
    "collapsed": false
   },
   "outputs": [
    {
     "data": {
      "text/plain": [
       "      fun: 88.879758042295094\n",
       " hess_inv: <4x4 LbfgsInvHessProduct with dtype=float64>\n",
       "      jac: array([-555.11958976, -648.92976894,  -40.31299028,  -82.613046  ])\n",
       "  message: 'CONVERGENCE: REL_REDUCTION_OF_F_<=_FACTR*EPSMCH'\n",
       "     nfev: 140\n",
       "      nit: 3\n",
       "   status: 0\n",
       "  success: True\n",
       "        x: array([ 0.51320736,  0.86592634,  5.37711278,  0.48223028])"
      ]
     },
     "execution_count": 29,
     "metadata": {},
     "output_type": "execute_result"
    }
   ],
   "source": [
    "import scipy.optimize as opt\n",
    "params_init = np.array([0.5,0.5,10,2])\n",
    "mle1_args = (df['kt'] ,df['wt'])\n",
    "bounds1 = ((1e-8,1-1e-8),(-1+1e-8,1-1e-8),(0,None),(0,None))\n",
    "results = opt.minimize(crit_norm, params_init,args=(mle1_args),method='L-BFGS-B',tol=1e-13,bounds=bounds1,options={'maxiter':1000})\n",
    "alphaMLE1,rhoMLE1,muMLE1,sigmaMLE1 = results.x\n",
    "hinv1 = results.hess_inv\n",
    "results"
   ]
  },
  {
   "cell_type": "code",
   "execution_count": 30,
   "metadata": {
    "collapsed": false
   },
   "outputs": [
    {
     "data": {
      "text/plain": [
       "array([ 0.51320736,  0.86592634,  5.37711278,  0.48223028])"
      ]
     },
     "execution_count": 30,
     "metadata": {},
     "output_type": "execute_result"
    }
   ],
   "source": [
    "results.x"
   ]
  },
  {
   "cell_type": "code",
   "execution_count": 28,
   "metadata": {
    "collapsed": false
   },
   "outputs": [],
   "source": [
    "# Let's try scipy.optimize.basinhopping\n",
    "import scipy.optimize as opt\n",
    "bh_results = opt.basinhopping(crit_norm, params_init,niter=1000, minimizer_kwargs={'args':(mle1_args),'method':'L-BFGS-B','tol':1e-13,'bounds':bounds1})"
   ]
  },
  {
   "cell_type": "code",
   "execution_count": 31,
   "metadata": {
    "collapsed": false
   },
   "outputs": [
    {
     "data": {
      "text/plain": [
       "                        fun: -96.706908083306033\n",
       " lowest_optimization_result:       fun: -96.706908083306033\n",
       " hess_inv: <4x4 LbfgsInvHessProduct with dtype=float64>\n",
       "      jac: array([ 0.01825242, -0.00016627,  0.00128466, -0.00037517])\n",
       "  message: 'CONVERGENCE: REL_REDUCTION_OF_F_<=_FACTR*EPSMCH'\n",
       "     nfev: 295\n",
       "      nit: 35\n",
       "   status: 0\n",
       "  success: True\n",
       "        x: array([ 0.45753432,  0.72047551,  9.52246914,  0.09199622])\n",
       "                    message: ['requested number of basinhopping iterations completed successfully']\n",
       "      minimization_failures: 931\n",
       "                       nfev: 155435\n",
       "                        nit: 1000\n",
       "                          x: array([ 0.45753432,  0.72047551,  9.52246914,  0.09199622])"
      ]
     },
     "execution_count": 31,
     "metadata": {},
     "output_type": "execute_result"
    }
   ],
   "source": [
    "bh_results"
   ]
  },
  {
   "cell_type": "markdown",
   "metadata": {},
   "source": [
    "## part (b)\n",
    "\n",
    "We will not use other set of data and model equations to estimate the four parameters - $(r_t, k_t)$. \n",
    "\n",
    "Recall we can rearrange $$r_t - \\alpha exp(z_t) k_t^{\\alpha-1}=0$$\n",
    "$$z_t = \\rho z_{t-1} + (1-\\rho) \\mu + \\epsilon_t$$\n",
    "$$where \\;\\; \\epsilon_t \\sim N(0, \\sigma^2)$$\n",
    "\n",
    "and get \n",
    "$$log\\left(\\frac{r_t}{\\alpha k_t^{\\alpha-1}}\\right) = z_t$$\n",
    "\n",
    "Then our likelihood for each time period is:\n",
    "$$\\mathcal{L}(\\alpha,\\rho,\\mu,\\sigma|r_t,k_t,z_{t-1}) = \\phi\\left(\\frac{log\\left(\\frac{r_t}{\\alpha k_t^{\\alpha-1}}\\right) -\\rho z_{t-1} - (1-\\rho) \\mu}{\\sigma}\\right) $$\n",
    "\n",
    "Where $\\phi()$ is the standard normal PDF. We again sequentially condition and use $\\mu$ as the value of $z_0$. \n",
    "\n"
   ]
  },
  {
   "cell_type": "code",
   "execution_count": 32,
   "metadata": {
    "collapsed": false
   },
   "outputs": [],
   "source": [
    "def crit_norm2(params,*args):\n",
    "    alpha, rho, mu, sigma = params\n",
    "    kvals = np.array(args[0])\n",
    "    rvals = np.array(args[1])\n",
    "    zvals = np.array(np.log(rvals/(alpha*(kvals**(alpha-1)))))\n",
    "    lag_zvals = np.roll(zvals,1)\n",
    "    lag_zvals[0] = mu\n",
    "    mus = rho*lag_zvals + (1-rho)*mu\n",
    "    xvals = zvals-mus\n",
    "    log_lik_val = sts.norm.logpdf(xvals,loc=0,scale=sigma).sum()\n",
    "    neg_log_lik_val = -log_lik_val\n",
    "    \n",
    "    return neg_log_lik_val"
   ]
  },
  {
   "cell_type": "code",
   "execution_count": 33,
   "metadata": {
    "collapsed": false
   },
   "outputs": [
    {
     "data": {
      "text/plain": [
       "74.580791965167649"
      ]
     },
     "execution_count": 33,
     "metadata": {},
     "output_type": "execute_result"
    }
   ],
   "source": [
    "crit_norm2(results.x,df['kt'],df['rt'])"
   ]
  },
  {
   "cell_type": "code",
   "execution_count": 34,
   "metadata": {
    "collapsed": false
   },
   "outputs": [],
   "source": [
    "import scipy.optimize as opt\n",
    "params_init2 = np.array([0.1,0.9,10,1])\n",
    "mle2_args = (df['kt'] ,df['rt'])\n",
    "bounds2 = ((1e-8,1-1e-8),(-1+1e-8,1-1e-8),(0,None),(0,None))\n",
    "results2 = opt.minimize(crit_norm2, params_init2, args=(mle2_args),method='L-BFGS-B',tol=1e-12,bounds=bounds2,options={'maxiter':1000})\n",
    "alphaMLE2,rhoMLE2,muMLE2,sigmaMLE2 = results2.x"
   ]
  },
  {
   "cell_type": "code",
   "execution_count": 35,
   "metadata": {
    "collapsed": false
   },
   "outputs": [
    {
     "data": {
      "text/plain": [
       "      fun: -96.706908041157121\n",
       " hess_inv: <4x4 LbfgsInvHessProduct with dtype=float64>\n",
       "      jac: array([-0.00339639,  0.00019895, -0.00019043,  0.00138982])\n",
       "  message: 'CONVERGENCE: REL_REDUCTION_OF_F_<=_FACTR*EPSMCH'\n",
       "     nfev: 465\n",
       "      nit: 47\n",
       "   status: 0\n",
       "  success: True\n",
       "        x: array([ 0.45749022,  0.72050916,  9.37076158,  0.09199629])"
      ]
     },
     "execution_count": 35,
     "metadata": {},
     "output_type": "execute_result"
    }
   ],
   "source": [
    "results2"
   ]
  },
  {
   "cell_type": "code",
   "execution_count": 36,
   "metadata": {
    "collapsed": true
   },
   "outputs": [],
   "source": [
    "# Let's try scipy.optimize.basinhopping\n",
    "import scipy.optimize as opt\n",
    "bh_results2 = opt.basinhopping(crit_norm2, params_init2,niter=1000, minimizer_kwargs={'args':(mle2_args),'method':'L-BFGS-B','tol':1e-13,'bounds':bounds2})"
   ]
  },
  {
   "cell_type": "code",
   "execution_count": 37,
   "metadata": {
    "collapsed": false
   },
   "outputs": [
    {
     "data": {
      "text/plain": [
       "                        fun: -96.706908088061567\n",
       " lowest_optimization_result:       fun: -96.706908088061567\n",
       " hess_inv: <4x4 LbfgsInvHessProduct with dtype=float64>\n",
       "      jac: array([  1.13686838e-05,  -3.26849658e-05,  -5.96855898e-05,\n",
       "        -1.42108547e-06])\n",
       "  message: 'CONVERGENCE: REL_REDUCTION_OF_F_<=_FACTR*EPSMCH'\n",
       "     nfev: 695\n",
       "      nit: 55\n",
       "   status: 0\n",
       "  success: True\n",
       "        x: array([ 0.45754324,  0.72046962,  9.36980675,  0.09199623])\n",
       "                    message: ['requested number of basinhopping iterations completed successfully']\n",
       "      minimization_failures: 962\n",
       "                       nfev: 253820\n",
       "                        nit: 1000\n",
       "                          x: array([ 0.45754324,  0.72046962,  9.36980675,  0.09199623])"
      ]
     },
     "execution_count": 37,
     "metadata": {},
     "output_type": "execute_result"
    }
   ],
   "source": [
    "bh_results2"
   ]
  },
  {
   "cell_type": "markdown",
   "metadata": {},
   "source": [
    "## Part (c)\n",
    "We take our results from the first MLE results, and we want to compute the probability that the interest rate is greater than 1 given $k_t = 7,500,000$ and $z_{t-1} = 10$. \n",
    "\n",
    "First, consider that $$ r_t = \\alpha exp(z_t) k_t^{\\alpha-1}$$\n",
    "\n",
    "Thus the distribution of $r_t | \\alpha,\\rho, \\mu, \\sigma, z_{t-1}, k_t$ is fully specified and lognormal. Given parameter estimates and $z_{t-1}$, $$z_t|z_{t-1},\\hat\\rho,\\hat\\mu,\\hat\\sigma \\sim N(\\hat\\rho z_{t-1} + (1-\\hat\\rho) \\hat\\mu, \\hat\\sigma^2)$$\n",
    "\n",
    "\n",
    "This implies that $exp(z_t)|z_{t-1},\\hat\\rho,\\hat\\mu,\\hat\\sigma \\sim logN(\\hat\\rho z_{t-1} + (1-\\hat\\rho) \\hat\\mu, \\hat\\sigma^2)$\n",
    "\n",
    "\n",
    "Then $r_t$ is distributed as a transformation of a lognormal, and $log(r_t) = log(\\alpha)+ z_t + (\\alpha-1)log(k_t)$. In particular, we can then write: \n",
    "\n",
    "$$ log(r_t)|\\hat\\alpha, \\hat\\rho,\\hat\\mu,\\hat\\sigma,z_{t-1},k_t \\sim N(log(\\hat\\alpha) + (\\hat\\alpha-1)log(k_t) +\\hat\\rho z_{t-1} + (1-\\hat\\rho) \\hat\\mu, \\hat\\sigma^2)$$\n",
    "\n",
    "Remember we are trying to figure out $Pr(r_t>1|...)$ - if we take logs, this is the same as $Pr(log(r_t)>0|...)$ and we can use the normal cdf."
   ]
  },
  {
   "cell_type": "code",
   "execution_count": 38,
   "metadata": {
    "collapsed": false
   },
   "outputs": [
    {
     "data": {
      "text/plain": [
       "0.98160965491220697"
      ]
     },
     "execution_count": 38,
     "metadata": {},
     "output_type": "execute_result"
    }
   ],
   "source": [
    "mean_hat = np.log(alphaMLE1) + (alphaMLE1-1)*np.log(7500000) + rhoMLE1*10 + (1-rhoMLE1)*muMLE1\n",
    "prob_rt_over_1 = 1-sts.norm.cdf(0,loc=mean_hat,scale=sigmaMLE1)\n",
    "prob_rt_over_1"
   ]
  },
  {
   "cell_type": "code",
   "execution_count": 27,
   "metadata": {
    "collapsed": false
   },
   "outputs": [
    {
     "data": {
      "text/plain": [
       "[<matplotlib.lines.Line2D at 0xa1a6f98>]"
      ]
     },
     "execution_count": 27,
     "metadata": {},
     "output_type": "execute_result"
    },
    {
     "name": "stderr",
     "output_type": "stream",
     "text": [
      "C:\\Users\\Olivia\\Anaconda\\lib\\site-packages\\matplotlib\\collections.py:590: FutureWarning: elementwise comparison failed; returning scalar instead, but in the future will perform elementwise comparison\n",
      "  if self._edgecolors == str('face'):\n"
     ]
    },
    {
     "data": {
      "image/png": "[encoded data removed]",
      "text/plain": [
       "<matplotlib.figure.Figure at 0x9ec50b8>"
      ]
     },
     "metadata": {},
     "output_type": "display_data"
    }
   ],
   "source": [
    "mpl.scatter(df['rt'],df['kt'])\n",
    "mpl.ylim(6500000, 8500000)\n",
    "mpl.plot((1,1), (6500000, 8500000))"
   ]
  },
  {
   "cell_type": "code",
   "execution_count": 39,
   "metadata": {
    "collapsed": false
   },
   "outputs": [
    {
     "data": {
      "text/plain": [
       "count    22.000000\n",
       "mean      1.022400\n",
       "std       0.111248\n",
       "min       0.819379\n",
       "25%       0.937132\n",
       "50%       1.020793\n",
       "75%       1.117244\n",
       "max       1.233322\n",
       "Name: rt, dtype: float64"
      ]
     },
     "execution_count": 39,
     "metadata": {},
     "output_type": "execute_result"
    }
   ],
   "source": [
    "df.loc[(df['kt']>7000000)&(df['kt']<8000000)]['rt'].describe()"
   ]
  }
 ],
 "metadata": {
  "kernelspec": {
   "display_name": "Python 2",
   "language": "python",
   "name": "python2"
  },
  "language_info": {
   "codemirror_mode": {
    "name": "ipython",
    "version": 2
   },
   "file_extension": ".py",
   "mimetype": "text/x-python",
   "name": "python",
   "nbconvert_exporter": "python",
   "pygments_lexer": "ipython2",
   "version": "2.7.13"
  }
 },
 "nbformat": 4,
 "nbformat_minor": 0
}
