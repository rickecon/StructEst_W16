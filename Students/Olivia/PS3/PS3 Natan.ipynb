{
 "cells": [
  {
   "cell_type": "markdown",
   "metadata": {},
   "source": [
    "# Problem Set 3\n",
    "\n",
    "Olivia Natan\n",
    "\n"
   ]
  },
  {
   "cell_type": "code",
   "execution_count": 1,
   "metadata": {
    "collapsed": false
   },
   "outputs": [],
   "source": [
    "import pandas as pd\n",
    "import numpy as np\n",
    "import matplotlib.pyplot as mpl\n",
    "import seaborn as sns\n",
    "import scipy.stats as sts\n",
    "\n",
    "%matplotlib inline"
   ]
  },
  {
   "cell_type": "markdown",
   "metadata": {},
   "source": [
    "MLE estimation of a simple macroeconomic model\n",
    "\n",
    "We observe 100 quarters of time series data on the following variables: $(c_t, k_t, w_t, r_t)$, which are aggregate consumption, last period's household savings, wage per unit labor, and the interest rate (return on investment), respectively. Aggregate productivity is $z_t$, which follows an AR(1) process as shown below.\n",
    "\n",
    "We assume the following model: $$ (c_t)^{-1} - \\beta E[r_{t+1} c_{t+1}^{-1}]=0$$\n",
    "$$c_t + k_{t+1} − w_t − r_t k_t = 0 $$\n",
    "$$w_t - (1-\\alpha)exp(z_t) k_t^{\\alpha}=0$$\n",
    "$$r_t - \\alpha exp(z_t) k_t^{\\alpha-1}=0$$\n",
    "$$z_t = \\rho z_{t-1} + (1-\\rho) \\mu + \\epsilon_t$$\n",
    "$$where \\;\\; \\epsilon_t \\sim N(0, \\sigma^2)$$\n",
    "\n",
    "\n",
    "We want to estimate $(\\alpha, \\beta, \\rho, \\mu, \\sigma)$ where   $\\alpha ,\\beta \\in (0,1)$, $\\mu, \\sigma >0$ and $\\rho \\in (-1, 1)$."
   ]
  },
  {
   "cell_type": "code",
   "execution_count": 2,
   "metadata": {
    "collapsed": false
   },
   "outputs": [
    {
     "data": {
      "text/html": [
       "<div>\n",
       "<table border=\"1\" class=\"dataframe\">\n",
       "  <thead>\n",
       "    <tr style=\"text-align: right;\">\n",
       "      <th></th>\n",
       "      <th>ct</th>\n",
       "      <th>kt</th>\n",
       "      <th>wt</th>\n",
       "      <th>rt</th>\n",
       "      <th>tt</th>\n",
       "    </tr>\n",
       "  </thead>\n",
       "  <tbody>\n",
       "    <tr>\n",
       "      <th>0</th>\n",
       "      <td>1.067109e+07</td>\n",
       "      <td>8.040697e+06</td>\n",
       "      <td>1.059438e+07</td>\n",
       "      <td>0.954120</td>\n",
       "      <td>1</td>\n",
       "    </tr>\n",
       "    <tr>\n",
       "      <th>1</th>\n",
       "      <td>1.169487e+07</td>\n",
       "      <td>7.595072e+06</td>\n",
       "      <td>1.161079e+07</td>\n",
       "      <td>1.107009</td>\n",
       "      <td>2</td>\n",
       "    </tr>\n",
       "    <tr>\n",
       "      <th>2</th>\n",
       "      <td>9.292394e+06</td>\n",
       "      <td>8.323735e+06</td>\n",
       "      <td>9.225588e+06</td>\n",
       "      <td>0.802596</td>\n",
       "      <td>3</td>\n",
       "    </tr>\n",
       "    <tr>\n",
       "      <th>3</th>\n",
       "      <td>7.913165e+06</td>\n",
       "      <td>6.613792e+06</td>\n",
       "      <td>7.856274e+06</td>\n",
       "      <td>0.860176</td>\n",
       "      <td>4</td>\n",
       "    </tr>\n",
       "    <tr>\n",
       "      <th>4</th>\n",
       "      <td>8.140994e+06</td>\n",
       "      <td>5.632136e+06</td>\n",
       "      <td>8.082466e+06</td>\n",
       "      <td>1.039183</td>\n",
       "      <td>5</td>\n",
       "    </tr>\n",
       "  </tbody>\n",
       "</table>\n",
       "</div>"
      ],
      "text/plain": [
       "             ct            kt            wt        rt  tt\n",
       "0  1.067109e+07  8.040697e+06  1.059438e+07  0.954120   1\n",
       "1  1.169487e+07  7.595072e+06  1.161079e+07  1.107009   2\n",
       "2  9.292394e+06  8.323735e+06  9.225588e+06  0.802596   3\n",
       "3  7.913165e+06  6.613792e+06  7.856274e+06  0.860176   4\n",
       "4  8.140994e+06  5.632136e+06  8.082466e+06  1.039183   5"
      ]
     },
     "execution_count": 2,
     "metadata": {},
     "output_type": "execute_result"
    }
   ],
   "source": [
    "# read in data\n",
    "df = pd.read_csv('MacroSeries.txt',sep=',',header=None,names=['ct','kt','wt','rt'])\n",
    "df['tt'] = df.index+1\n",
    "df.head()"
   ]
  },
  {
   "cell_type": "markdown",
   "metadata": {},
   "source": [
    "We start by assuming the following: $$ \\beta = 0.99$$ $$z_0 = \\mu \\implies z_1=\\mu + \\epsilon_1$$"
   ]
  },
  {
   "cell_type": "markdown",
   "metadata": {},
   "source": [
    "# (a)\n",
    "We want to estimate the vector of parameters $(\\alpha, \\rho, \\mu, \\sigma)$ using the data from 2 variables: $w_t$ and $k_t$. \n",
    "\n",
    "Recall we can fully pin down the likelihood from the data using the following 2 equations form above:\n",
    "$$w_t - (1-\\alpha)exp(z_t) k_t^{\\alpha}=0$$\n",
    "$$z_t = \\rho z_{t-1} + (1-\\rho) \\mu + \\epsilon_t$$\n",
    "$$where \\;\\; \\epsilon_t \\sim N(0, \\sigma^2)$$\n",
    "\n",
    "In particular, note that $$z_t - \\rho z_{t-1} - (1-\\rho) \\mu \\sim N(0,\\sigma^2)$$\n",
    "\n",
    "Take for example, the likelihood of the first period of data, where we know $z_1 = z_0 + \\epsilon_1$. In particular, then, $z_1 \\sim N(\\mu, \\sigma^2)$. \n",
    "\n",
    "We can then transform our model equation: $$ log\\left(\\frac{w_t}{(1-\\alpha) k_t^{\\alpha}}\\right) = z_t$$\n",
    "\n",
    "Thus our log-likelihood for the first period is: $$\\mathcal{L}(\\alpha,\\rho,\\mu,\\sigma|w_1,k_1) = \\phi\\left(\\frac{log\\left(\\frac{w_1}{(1-\\alpha) k_1^{\\alpha}}\\right) -\\mu}{\\sigma}\\right)$$\n",
    "\n",
    "Where $\\phi()$ is the standard normal pdf. \n",
    "\n",
    "For subsequent periods, note that $z_t | z_{t-1}, \\rho,\\mu,\\sigma \\sim N(\\rho z_{t-1} + (1-\\rho) \\mu, \\sigma^2)$, so we have $$\\mathcal{L}(\\alpha,\\rho,\\mu,\\sigma|w_t,k_t,z_{t-1}) = \\phi\\left(\\frac{log\\left(\\frac{w_t}{(1-\\alpha) k_t^{\\alpha}}\\right) -\\rho z_{t-1} - (1-\\rho) \\mu}{\\sigma}\\right) $$"
   ]
  },
  {
   "cell_type": "code",
   "execution_count": 3,
   "metadata": {
    "collapsed": true
   },
   "outputs": [],
   "source": [
    "# want to use built in pdf\n",
    "\n",
    "import scipy.stats as sts\n",
    "import numpy as np \n",
    "\n",
    "def crit_norm(params,*args):\n",
    "    #alpha_0, rho_0, mu_0, sigma_0 = params\n",
    "    #alpha = np.exp(alpha_0)/(1+ np.exp(alpha_0)) # keep in (0,1)\n",
    "    #rho = 2*(np.exp(rho_0)/(1+np.exp(rho_0))) - 1 #keep in (-1,1)\n",
    "    #mu = np.exp(mu_0)\n",
    "    #sigma = np.exp(sigma_0)\n",
    "    alpha, rho, mu, sigma = params\n",
    "    kvals = np.array(args[0])\n",
    "    wvals = np.array(args[1])\n",
    "    zvals = np.array(np.log(wvals/((1-alpha)*(kvals**alpha))))\n",
    "    lag_zvals = np.roll(zvals,1)\n",
    "    lag_zvals[0] = mu\n",
    "    mus = rho*lag_zvals + (1-rho)*mu\n",
    "    xvals = zvals-mus\n",
    "    log_lik_val = sts.norm.logpdf(xvals,loc=0,scale=sigma).sum()\n",
    "    neg_log_lik_val = -log_lik_val\n",
    "    \n",
    "    return neg_log_lik_val"
   ]
  },
  {
   "cell_type": "code",
   "execution_count": 4,
   "metadata": {
    "collapsed": false
   },
   "outputs": [
    {
     "name": "stderr",
     "output_type": "stream",
     "text": [
      "C:\\Users\\Olivia\\Anaconda\\lib\\site-packages\\scipy\\stats\\_distn_infrastructure.py:1687: RuntimeWarning: divide by zero encountered in true_divide\n",
      "  x = np.asarray((x - loc)/scale, dtype=dtyp)\n",
      "C:\\Users\\Olivia\\Anaconda\\lib\\site-packages\\ipykernel\\__main__.py:15: RuntimeWarning: divide by zero encountered in divide\n",
      "C:\\Users\\Olivia\\Anaconda\\lib\\site-packages\\ipykernel\\__main__.py:19: RuntimeWarning: invalid value encountered in subtract\n",
      "C:\\Users\\Olivia\\Anaconda\\lib\\site-packages\\scipy\\stats\\_distn_infrastructure.py:872: RuntimeWarning: invalid value encountered in greater_equal\n",
      "  return (self.a <= x) & (x <= self.b)\n",
      "C:\\Users\\Olivia\\Anaconda\\lib\\site-packages\\scipy\\stats\\_distn_infrastructure.py:872: RuntimeWarning: invalid value encountered in less_equal\n",
      "  return (self.a <= x) & (x <= self.b)\n"
     ]
    },
    {
     "data": {
      "text/plain": [
       "      fun: 88.879758042295094\n",
       " hess_inv: <4x4 LbfgsInvHessProduct with dtype=float64>\n",
       "      jac: array([-555.11958976, -648.92976894,  -40.31299028,  -82.613046  ])\n",
       "  message: 'CONVERGENCE: REL_REDUCTION_OF_F_<=_FACTR*EPSMCH'\n",
       "     nfev: 140\n",
       "      nit: 3\n",
       "   status: 0\n",
       "  success: True\n",
       "        x: array([ 0.51320736,  0.86592634,  5.37711278,  0.48223028])"
      ]
     },
     "execution_count": 4,
     "metadata": {},
     "output_type": "execute_result"
    }
   ],
   "source": [
    "import scipy.optimize as opt\n",
    "params_init = np.array([0.5,0.5,10,2])\n",
    "mle1_args = (df['kt'] ,df['wt'])\n",
    "bounds1 = ((1e-8,1-1e-8),(-1+1e-8,1-1e-8),(0,None),(0,None))\n",
    "results = opt.minimize(crit_norm, params_init,args=(mle1_args),method='L-BFGS-B',tol=1e-13,bounds=bounds1,options={'maxiter':1000})\n",
    "alphaMLE1,rhoMLE1,muMLE1,sigmaMLE1 = results.x\n",
    "hinv1 = results.hess_inv\n",
    "results"
   ]
  },
  {
   "cell_type": "code",
   "execution_count": 7,
   "metadata": {
    "collapsed": false
   },
   "outputs": [
    {
     "data": {
      "text/plain": [
       "<4x4 LbfgsInvHessProduct with dtype=float64>"
      ]
     },
     "execution_count": 7,
     "metadata": {},
     "output_type": "execute_result"
    }
   ],
   "source": [
    "results.hess_inv"
   ]
  },
  {
   "cell_type": "code",
   "execution_count": 8,
   "metadata": {
    "collapsed": false
   },
   "outputs": [
    {
     "name": "stderr",
     "output_type": "stream",
     "text": [
      "C:\\Users\\Olivia\\Anaconda\\lib\\site-packages\\ipykernel\\__main__.py:15: RuntimeWarning: divide by zero encountered in divide\n",
      "C:\\Users\\Olivia\\Anaconda\\lib\\site-packages\\ipykernel\\__main__.py:19: RuntimeWarning: invalid value encountered in subtract\n",
      "C:\\Users\\Olivia\\Anaconda\\lib\\site-packages\\ipykernel\\__main__.py:15: RuntimeWarning: invalid value encountered in power\n",
      "C:\\Users\\Olivia\\Anaconda\\lib\\site-packages\\scipy\\stats\\_distn_infrastructure.py:1688: RuntimeWarning: invalid value encountered in greater\n",
      "  cond0 = self._argcheck(*args) & (scale > 0)\n",
      "C:\\Users\\Olivia\\Anaconda\\lib\\site-packages\\scipy\\stats\\_distn_infrastructure.py:1689: RuntimeWarning: invalid value encountered in greater\n",
      "  cond1 = self._support_mask(x) & (scale > 0)\n"
     ]
    },
    {
     "data": {
      "text/plain": [
       "                        fun: -96.70690808270605\n",
       " lowest_optimization_result:       fun: -96.70690808270605\n",
       " hess_inv: <4x4 LbfgsInvHessProduct with dtype=float64>\n",
       "      jac: array([  9.94759830e-06,   4.26325641e-06,  -2.41584530e-05,\n",
       "         4.26325641e-06])\n",
       "  message: 'CONVERGENCE: REL_REDUCTION_OF_F_<=_FACTR*EPSMCH'\n",
       "     nfev: 485\n",
       "      nit: 40\n",
       "   status: 0\n",
       "  success: True\n",
       "        x: array([ 0.45753171,  0.72047805,  9.52250442,  0.09199623])\n",
       "                    message: ['requested number of basinhopping iterations completed successfully']\n",
       "      minimization_failures: 911\n",
       "                       nfev: 156680\n",
       "                        nit: 1000\n",
       "                          x: array([ 0.45753171,  0.72047805,  9.52250442,  0.09199623])"
      ]
     },
     "execution_count": 8,
     "metadata": {},
     "output_type": "execute_result"
    }
   ],
   "source": [
    "# Let's try scipy.optimize.basinhopping\n",
    "import scipy.optimize as opt\n",
    "bh_results = opt.basinhopping(crit_norm, params_init,niter=1000, minimizer_kwargs={'args':(mle1_args),'method':'L-BFGS-B','tol':1e-13,'bounds':bounds1})\n",
    "bh_results"
   ]
  },
  {
   "cell_type": "code",
   "execution_count": 10,
   "metadata": {
    "collapsed": false
   },
   "outputs": [
    {
     "name": "stdout",
     "output_type": "stream",
     "text": [
      "Results from Part a\n",
      "('Alpha_hat = ', 0.45753170505100799)\n",
      "('Rho_hat = ', 0.72047805012683341)\n",
      "('Mu_hat = ', 9.5225044187283032)\n",
      "('Sigma_hat =', 0.091996231246648019)\n",
      "('LL= ', -96.70690808270605)\n"
     ]
    }
   ],
   "source": [
    "# Print results:\n",
    "print('Results from Part a')\n",
    "print('Alpha_hat = ',bh_results.x[0])\n",
    "print('Rho_hat = ',bh_results.x[1])\n",
    "print('Mu_hat = ',bh_results.x[2])\n",
    "print('Sigma_hat =',bh_results.x[3])\n",
    "print('LL= ',bh_results.fun)"
   ]
  },
  {
   "cell_type": "code",
   "execution_count": 11,
   "metadata": {
    "collapsed": false
   },
   "outputs": [
    {
     "name": "stdout",
     "output_type": "stream",
     "text": [
      "<4x4 LbfgsInvHessProduct with dtype=float64>\n"
     ]
    }
   ],
   "source": [
    "print(bh_results.lowest_optimization_result.hess_inv)"
   ]
  },
  {
   "cell_type": "markdown",
   "metadata": {},
   "source": [
    "## part (b)\n",
    "\n",
    "We will not use other set of data and model equations to estimate the four parameters - $(r_t, k_t)$. \n",
    "\n",
    "Recall we can rearrange $$r_t - \\alpha exp(z_t) k_t^{\\alpha-1}=0$$\n",
    "$$z_t = \\rho z_{t-1} + (1-\\rho) \\mu + \\epsilon_t$$\n",
    "$$where \\;\\; \\epsilon_t \\sim N(0, \\sigma^2)$$\n",
    "\n",
    "and get \n",
    "$$log\\left(\\frac{r_t}{\\alpha k_t^{\\alpha-1}}\\right) = z_t$$\n",
    "\n",
    "Then our likelihood for each time period is:\n",
    "$$\\mathcal{L}(\\alpha,\\rho,\\mu,\\sigma|r_t,k_t,z_{t-1}) = \\phi\\left(\\frac{log\\left(\\frac{r_t}{\\alpha k_t^{\\alpha-1}}\\right) -\\rho z_{t-1} - (1-\\rho) \\mu}{\\sigma}\\right) $$\n",
    "\n",
    "Where $\\phi()$ is the standard normal PDF. We again sequentially condition and use $\\mu$ as the value of $z_0$. \n",
    "\n"
   ]
  },
  {
   "cell_type": "code",
   "execution_count": 12,
   "metadata": {
    "collapsed": false
   },
   "outputs": [],
   "source": [
    "def crit_norm2(params,*args):\n",
    "    alpha, rho, mu, sigma = params\n",
    "    kvals = np.array(args[0])\n",
    "    rvals = np.array(args[1])\n",
    "    zvals = np.array(np.log(rvals/(alpha*(kvals**(alpha-1)))))\n",
    "    lag_zvals = np.roll(zvals,1)\n",
    "    lag_zvals[0] = mu\n",
    "    mus = rho*lag_zvals + (1-rho)*mu\n",
    "    xvals = zvals-mus\n",
    "    log_lik_val = sts.norm.logpdf(xvals,loc=0,scale=sigma).sum()\n",
    "    neg_log_lik_val = -log_lik_val\n",
    "    \n",
    "    return neg_log_lik_val"
   ]
  },
  {
   "cell_type": "code",
   "execution_count": 13,
   "metadata": {
    "collapsed": false
   },
   "outputs": [
    {
     "data": {
      "text/plain": [
       "74.580791965167649"
      ]
     },
     "execution_count": 13,
     "metadata": {},
     "output_type": "execute_result"
    }
   ],
   "source": [
    "crit_norm2(results.x,df['kt'],df['rt'])"
   ]
  },
  {
   "cell_type": "code",
   "execution_count": 14,
   "metadata": {
    "collapsed": false
   },
   "outputs": [],
   "source": [
    "import scipy.optimize as opt\n",
    "params_init2 = np.array([0.1,0.9,10,1])\n",
    "mle2_args = (df['kt'] ,df['rt'])\n",
    "bounds2 = ((1e-8,1-1e-8),(-1+1e-8,1-1e-8),(0,None),(0,None))\n",
    "results2 = opt.minimize(crit_norm2, params_init2,args=(mle2_args),method='L-BFGS-B',tol=1e-12,bounds=bounds2,options={'maxiter':1000})\n",
    "alphaMLE2,rhoMLE2,muMLE2,sigmaMLE2 = results2.x"
   ]
  },
  {
   "cell_type": "code",
   "execution_count": 15,
   "metadata": {
    "collapsed": false
   },
   "outputs": [
    {
     "data": {
      "text/plain": [
       "      fun: -96.706908041157121\n",
       " hess_inv: <4x4 LbfgsInvHessProduct with dtype=float64>\n",
       "      jac: array([-0.00339639,  0.00019895, -0.00019043,  0.00138982])\n",
       "  message: 'CONVERGENCE: REL_REDUCTION_OF_F_<=_FACTR*EPSMCH'\n",
       "     nfev: 465\n",
       "      nit: 47\n",
       "   status: 0\n",
       "  success: True\n",
       "        x: array([ 0.45749022,  0.72050916,  9.37076158,  0.09199629])"
      ]
     },
     "execution_count": 15,
     "metadata": {},
     "output_type": "execute_result"
    }
   ],
   "source": [
    "results2"
   ]
  },
  {
   "cell_type": "code",
   "execution_count": 16,
   "metadata": {
    "collapsed": false
   },
   "outputs": [
    {
     "name": "stderr",
     "output_type": "stream",
     "text": [
      "C:\\Users\\Olivia\\Anaconda\\lib\\site-packages\\ipykernel\\__main__.py:5: RuntimeWarning: invalid value encountered in power\n"
     ]
    },
    {
     "data": {
      "text/plain": [
       "                        fun: -96.706908044806497\n",
       " lowest_optimization_result:       fun: -96.706908044806497\n",
       " hess_inv: <4x4 LbfgsInvHessProduct with dtype=float64>\n",
       "      jac: array([ -4.62421212e-03,   4.12114787e-05,  -2.75690581e-04,\n",
       "         1.97658778e-02])\n",
       "  message: 'CONVERGENCE: REL_REDUCTION_OF_F_<=_FACTR*EPSMCH'\n",
       "     nfev: 345\n",
       "      nit: 38\n",
       "   status: 0\n",
       "  success: True\n",
       "        x: array([ 0.45749904,  0.72050197,  9.37060251,  0.09199707])\n",
       "                    message: ['requested number of basinhopping iterations completed successfully']\n",
       "      minimization_failures: 955\n",
       "                       nfev: 262385\n",
       "                        nit: 1000\n",
       "                          x: array([ 0.45749904,  0.72050197,  9.37060251,  0.09199707])"
      ]
     },
     "execution_count": 16,
     "metadata": {},
     "output_type": "execute_result"
    }
   ],
   "source": [
    "# Let's try scipy.optimize.basinhopping\n",
    "import scipy.optimize as opt\n",
    "bh_results2 = opt.basinhopping(crit_norm2, params_init2,niter=1000, minimizer_kwargs={'args':(mle2_args),'method':'L-BFGS-B','tol':1e-13,'bounds':bounds2})\n",
    "bh_results2"
   ]
  },
  {
   "cell_type": "code",
   "execution_count": 17,
   "metadata": {
    "collapsed": false
   },
   "outputs": [
    {
     "name": "stdout",
     "output_type": "stream",
     "text": [
      "Results from Part b\n",
      "('Alpha_hat = ', 0.4574990439552401)\n",
      "('Rho_hat = ', 0.72050196776171938)\n",
      "('Mu_hat = ', 9.3706025117958518)\n",
      "('Sigma_hat =', 0.091997067427718349)\n",
      "('LL= ', -96.706908044806497)\n"
     ]
    }
   ],
   "source": [
    "# Print results:\n",
    "print('Results from Part b')\n",
    "print('Alpha_hat = ',bh_results2.x[0])\n",
    "print('Rho_hat = ',bh_results2.x[1])\n",
    "print('Mu_hat = ',bh_results2.x[2])\n",
    "print('Sigma_hat =',bh_results2.x[3])\n",
    "print('LL= ',bh_results2.fun)"
   ]
  },
  {
   "cell_type": "code",
   "execution_count": 18,
   "metadata": {
    "collapsed": false
   },
   "outputs": [
    {
     "name": "stdout",
     "output_type": "stream",
     "text": [
      "<4x4 LbfgsInvHessProduct with dtype=float64>\n"
     ]
    }
   ],
   "source": [
    "print(bh_results2.lowest_optimization_result.hess_inv)"
   ]
  },
  {
   "cell_type": "markdown",
   "metadata": {},
   "source": [
    "## Part (c)\n",
    "We take our results from the first MLE results, and we want to compute the probability that the interest rate is greater than 1 given $k_t = 7,500,000$ and $z_{t-1} = 10$. \n",
    "\n",
    "First, consider that $$ r_t = \\alpha exp(z_t) k_t^{\\alpha-1}$$\n",
    "\n",
    "Thus the distribution of $r_t | \\alpha,\\rho, \\mu, \\sigma, z_{t-1}, k_t$ is fully specified and lognormal. Given parameter estimates and $z_{t-1}$, $$z_t|z_{t-1},\\hat\\rho,\\hat\\mu,\\hat\\sigma \\sim N(\\hat\\rho z_{t-1} + (1-\\hat\\rho) \\hat\\mu, \\hat\\sigma^2)$$\n",
    "\n",
    "\n",
    "This implies that $exp(z_t)|z_{t-1},\\hat\\rho,\\hat\\mu,\\hat\\sigma \\sim logN(\\hat\\rho z_{t-1} + (1-\\hat\\rho) \\hat\\mu, \\hat\\sigma^2)$\n",
    "\n",
    "\n",
    "Then $r_t$ is distributed as a transformation of a lognormal, and $log(r_t) = log(\\alpha)+ z_t + (\\alpha-1)log(k_t)$. In particular, we can then write: \n",
    "\n",
    "$$ log(r_t)|\\hat\\alpha, \\hat\\rho,\\hat\\mu,\\hat\\sigma,z_{t-1},k_t \\sim N(log(\\hat\\alpha) + (\\hat\\alpha-1)log(k_t) +\\hat\\rho z_{t-1} + (1-\\hat\\rho) \\hat\\mu, \\hat\\sigma^2)$$\n",
    "\n",
    "Remember we are trying to figure out $Pr(r_t>1|...)$ - if we take logs, this is the same as $Pr(log(r_t)>0|...)$ and we can use the normal cdf."
   ]
  },
  {
   "cell_type": "code",
   "execution_count": 19,
   "metadata": {
    "collapsed": false
   },
   "outputs": [
    {
     "data": {
      "text/plain": [
       "0.99999996736571439"
      ]
     },
     "execution_count": 19,
     "metadata": {},
     "output_type": "execute_result"
    }
   ],
   "source": [
    "mean_hat = np.log(bh_results.x[0]) + (bh_results.x[0]-1)*np.log(7500000) + bh_results.x[1]*10 + (1-bh_results.x[1])*bh_results.x[2]\n",
    "prob_rt_over_1 = 1-sts.norm.cdf(0,loc=mean_hat,scale=bh_results.x[3])\n",
    "prob_rt_over_1"
   ]
  },
  {
   "cell_type": "code",
   "execution_count": 20,
   "metadata": {
    "collapsed": false
   },
   "outputs": [
    {
     "data": {
      "text/plain": [
       "[<matplotlib.lines.Line2D at 0xb6647f0>]"
      ]
     },
     "execution_count": 20,
     "metadata": {},
     "output_type": "execute_result"
    },
    {
     "data": {
      "image/png": "[encoded data removed]",
      "text/plain": [
       "<matplotlib.figure.Figure at 0xa167fd0>"
      ]
     },
     "metadata": {},
     "output_type": "display_data"
    }
   ],
   "source": [
    "mpl.scatter(df['rt'],df['kt'])\n",
    "mpl.ylim(6500000, 8500000)\n",
    "mpl.plot((1,1), (6500000, 8500000))"
   ]
  },
  {
   "cell_type": "code",
   "execution_count": 21,
   "metadata": {
    "collapsed": false
   },
   "outputs": [
    {
     "data": {
      "text/plain": [
       "count    22.000000\n",
       "mean      1.022400\n",
       "std       0.111248\n",
       "min       0.819379\n",
       "25%       0.937132\n",
       "50%       1.020793\n",
       "75%       1.117244\n",
       "max       1.233322\n",
       "Name: rt, dtype: float64"
      ]
     },
     "execution_count": 21,
     "metadata": {},
     "output_type": "execute_result"
    }
   ],
   "source": [
    "df.loc[(df['kt']>7000000)&(df['kt']<8000000)]['rt'].describe()"
   ]
  },
  {
   "cell_type": "markdown",
   "metadata": {},
   "source": [
    "We are finding it is highly likely we would ever have an interest rate below 1. Why might this be?\n",
    "I printed the above graph to see what the distribution of interest rates and capital we observe in the data to see what the unconditional (on Z_t, params) probability of observing interest rate above 1 is in this range of capital expenditure.\n",
    "\n",
    "Let's see the likelihood that z_t=10, more or less:"
   ]
  },
  {
   "cell_type": "code",
   "execution_count": 22,
   "metadata": {
    "collapsed": true
   },
   "outputs": [],
   "source": [
    "def fitted_zvals(params, *args):\n",
    "    alpha = params\n",
    "    kvals = np.array(args[0])\n",
    "    wvals = np.array(args[1])\n",
    "    zvals = np.array(np.log(wvals/((1-alpha)*(kvals**alpha))))\n",
    "    \n",
    "    return zvals"
   ]
  },
  {
   "cell_type": "code",
   "execution_count": 33,
   "metadata": {
    "collapsed": false
   },
   "outputs": [
    {
     "data": {
      "text/plain": [
       "<matplotlib.axes._subplots.AxesSubplot at 0xb70c128>"
      ]
     },
     "execution_count": 33,
     "metadata": {},
     "output_type": "execute_result"
    },
    {
     "data": {
      "image/png": "[encoded data removed]",
      "text/plain": [
       "<matplotlib.figure.Figure at 0xbf3d710>"
      ]
     },
     "metadata": {},
     "output_type": "display_data"
    }
   ],
   "source": [
    "fitted_z =fitted_zvals(bh_results.x[0],df['kt'],df['wt'])\n",
    "sns.distplot(fitted_z)"
   ]
  },
  {
   "cell_type": "code",
   "execution_count": 36,
   "metadata": {
    "collapsed": false
   },
   "outputs": [
    {
     "data": {
      "text/html": [
       "<div>\n",
       "<table border=\"1\" class=\"dataframe\">\n",
       "  <thead>\n",
       "    <tr style=\"text-align: right;\">\n",
       "      <th></th>\n",
       "      <th>0</th>\n",
       "    </tr>\n",
       "  </thead>\n",
       "  <tbody>\n",
       "    <tr>\n",
       "      <th>count</th>\n",
       "      <td>100.000000</td>\n",
       "    </tr>\n",
       "    <tr>\n",
       "      <th>mean</th>\n",
       "      <td>9.519662</td>\n",
       "    </tr>\n",
       "    <tr>\n",
       "      <th>std</th>\n",
       "      <td>0.132430</td>\n",
       "    </tr>\n",
       "    <tr>\n",
       "      <th>min</th>\n",
       "      <td>9.283119</td>\n",
       "    </tr>\n",
       "    <tr>\n",
       "      <th>25%</th>\n",
       "      <td>9.430932</td>\n",
       "    </tr>\n",
       "    <tr>\n",
       "      <th>50%</th>\n",
       "      <td>9.501424</td>\n",
       "    </tr>\n",
       "    <tr>\n",
       "      <th>75%</th>\n",
       "      <td>9.584008</td>\n",
       "    </tr>\n",
       "    <tr>\n",
       "      <th>max</th>\n",
       "      <td>9.909452</td>\n",
       "    </tr>\n",
       "  </tbody>\n",
       "</table>\n",
       "</div>"
      ],
      "text/plain": [
       "                0\n",
       "count  100.000000\n",
       "mean     9.519662\n",
       "std      0.132430\n",
       "min      9.283119\n",
       "25%      9.430932\n",
       "50%      9.501424\n",
       "75%      9.584008\n",
       "max      9.909452"
      ]
     },
     "execution_count": 36,
     "metadata": {},
     "output_type": "execute_result"
    }
   ],
   "source": [
    "pd.DataFrame(fitted_z).describe()"
   ]
  },
  {
   "cell_type": "markdown",
   "metadata": {},
   "source": [
    "The counterfactual uses a Z value outside of the range of fitted values - so perhaps we aren't the most confident in the counterfactual prediction given this dataset"
   ]
  }
 ],
 "metadata": {
  "kernelspec": {
   "display_name": "Python 2",
   "language": "python",
   "name": "python2"
  },
  "language_info": {
   "codemirror_mode": {
    "name": "ipython",
    "version": 2
   },
   "file_extension": ".py",
   "mimetype": "text/x-python",
   "name": "python",
   "nbconvert_exporter": "python",
   "pygments_lexer": "ipython2",
   "version": "2.7.13"
  }
 },
 "nbformat": 4,
 "nbformat_minor": 0
}
