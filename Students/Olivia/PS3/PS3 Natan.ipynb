{
 "cells": [
  {
   "cell_type": "markdown",
   "metadata": {},
   "source": [
    "# Problem Set 3\n",
    "\n",
    "Olivia Natan\n",
    "\n"
   ]
  },
  {
   "cell_type": "code",
   "execution_count": 1,
   "metadata": {
    "collapsed": false
   },
   "outputs": [],
   "source": [
    "import pandas as pd\n",
    "import numpy as np\n",
    "import matplotlib.pyplot as mpl\n",
    "import seaborn as sns\n",
    "import scipy.stats as sts\n",
    "\n",
    "%matplotlib inline"
   ]
  },
  {
   "cell_type": "markdown",
   "metadata": {},
   "source": [
    "MLE estimation of a simple macroeconomic model\n",
    "\n",
    "We observe 100 quarters of time series data on the following variables: $(c_t, k_t, w_t, r_t)$, which are aggregate consumption, last period's household savings, wage per unit labor, and the interest rate (return on investment), respectively. Aggregate productivity is $z_t$, which follows an AR(1) process as shown below.\n",
    "\n",
    "We assume the following model: $$ (c_t)^{-1} - \\beta E[r_{t+1} c_{t+1}^{-1}]=0$$\n",
    "$$c_t + k_{t+1} − w_t − r_t k_t = 0 $$\n",
    "$$w_t - (1-\\alpha)exp(z_t) k_t^{\\alpha}=0$$\n",
    "$$r_t - \\alpha exp(z_t) k_t^{\\alpha-1}=0$$\n",
    "$$z_t = \\rho z_{t-1} + (1-\\rho) \\mu + \\epsilon_t$$\n",
    "$$where \\;\\; \\epsilon_t \\sim N(0, \\sigma^2)$$\n",
    "\n",
    "\n",
    "We want to estimate $(\\alpha, \\beta, \\rho, \\mu, \\sigma)$ where   $\\alpha ,\\beta \\in (0,1)$, $\\mu, \\sigma >0$ and $\\rho \\in (-1, 1)$."
   ]
  },
  {
   "cell_type": "code",
   "execution_count": 2,
   "metadata": {
    "collapsed": false
   },
   "outputs": [
    {
     "data": {
      "text/html": [
       "<div>\n",
       "<table border=\"1\" class=\"dataframe\">\n",
       "  <thead>\n",
       "    <tr style=\"text-align: right;\">\n",
       "      <th></th>\n",
       "      <th>ct</th>\n",
       "      <th>kt</th>\n",
       "      <th>wt</th>\n",
       "      <th>rt</th>\n",
       "      <th>tt</th>\n",
       "    </tr>\n",
       "  </thead>\n",
       "  <tbody>\n",
       "    <tr>\n",
       "      <th>0</th>\n",
       "      <td>1.067109e+07</td>\n",
       "      <td>8.040697e+06</td>\n",
       "      <td>1.059438e+07</td>\n",
       "      <td>0.954120</td>\n",
       "      <td>1</td>\n",
       "    </tr>\n",
       "    <tr>\n",
       "      <th>1</th>\n",
       "      <td>1.169487e+07</td>\n",
       "      <td>7.595072e+06</td>\n",
       "      <td>1.161079e+07</td>\n",
       "      <td>1.107009</td>\n",
       "      <td>2</td>\n",
       "    </tr>\n",
       "    <tr>\n",
       "      <th>2</th>\n",
       "      <td>9.292394e+06</td>\n",
       "      <td>8.323735e+06</td>\n",
       "      <td>9.225588e+06</td>\n",
       "      <td>0.802596</td>\n",
       "      <td>3</td>\n",
       "    </tr>\n",
       "    <tr>\n",
       "      <th>3</th>\n",
       "      <td>7.913165e+06</td>\n",
       "      <td>6.613792e+06</td>\n",
       "      <td>7.856274e+06</td>\n",
       "      <td>0.860176</td>\n",
       "      <td>4</td>\n",
       "    </tr>\n",
       "    <tr>\n",
       "      <th>4</th>\n",
       "      <td>8.140994e+06</td>\n",
       "      <td>5.632136e+06</td>\n",
       "      <td>8.082466e+06</td>\n",
       "      <td>1.039183</td>\n",
       "      <td>5</td>\n",
       "    </tr>\n",
       "  </tbody>\n",
       "</table>\n",
       "</div>"
      ],
      "text/plain": [
       "             ct            kt            wt        rt  tt\n",
       "0  1.067109e+07  8.040697e+06  1.059438e+07  0.954120   1\n",
       "1  1.169487e+07  7.595072e+06  1.161079e+07  1.107009   2\n",
       "2  9.292394e+06  8.323735e+06  9.225588e+06  0.802596   3\n",
       "3  7.913165e+06  6.613792e+06  7.856274e+06  0.860176   4\n",
       "4  8.140994e+06  5.632136e+06  8.082466e+06  1.039183   5"
      ]
     },
     "execution_count": 2,
     "metadata": {},
     "output_type": "execute_result"
    }
   ],
   "source": [
    "# read in data\n",
    "df = pd.read_csv('MacroSeries.txt',sep=',',header=None,names=['ct','kt','wt','rt'])\n",
    "df['tt'] = df.index+1\n",
    "df.head()"
   ]
  },
  {
   "cell_type": "markdown",
   "metadata": {},
   "source": [
    "We start by assuming the following: $$ \\beta = 0.99$$ $$z_0 = \\mu \\implies z_1=\\mu + \\epsilon_1$$"
   ]
  },
  {
   "cell_type": "markdown",
   "metadata": {},
   "source": [
    "# (a)\n",
    "We want to estimate the vector of parameters $(\\alpha, \\rho, \\mu, \\sigma)$ using the data from 2 variables: $w_t$ and $k_t$. \n",
    "\n",
    "Recall we can fully pin down the likelihood from the data using the following 2 equations form above:\n",
    "$$w_t - (1-\\alpha)exp(z_t) k_t^{\\alpha}=0$$\n",
    "$$z_t = \\rho z_{t-1} + (1-\\rho) \\mu + \\epsilon_t$$\n",
    "$$where \\;\\; \\epsilon_t \\sim N(0, \\sigma^2)$$\n",
    "\n",
    "In particular, note that $$z_t - \\rho z_{t-1} - (1-\\rho) \\mu \\sim N(0,\\sigma^2)$$\n",
    "\n",
    "Take for example, the likelihood of the first period of data, where we know $z_1 = z_0 + \\epsilon_1$. In particular, then, $z_1 \\sim N(\\mu, \\sigma^2)$. \n",
    "\n",
    "We can then transform our model equation: $$ log\\left(\\frac{w_t}{(1-\\alpha) k_t^{\\alpha}}\\right) = z_t$$\n",
    "\n",
    "Thus our log-likelihood for the first period is: $$\\mathcal{L}(\\alpha,\\rho,\\mu,\\sigma|w_1,k_1) = \\phi\\left(\\frac{log\\left(\\frac{w_1}{(1-\\alpha) k_1^{\\alpha}}\\right) -\\mu}{\\sigma}\\right)$$\n",
    "\n",
    "Where $\\phi()$ is the standard normal pdf. \n",
    "\n",
    "For subsequent periods, note that $z_t | z_{t-1}, \\rho,\\mu,\\sigma \\sim N(\\rho z_{t-1} + (1-\\rho) \\mu, \\sigma^2)$, so we have $$\\mathcal{L}(\\alpha,\\rho,\\mu,\\sigma|w_t,k_t,z_{t-1}) = \\phi\\left(\\frac{log\\left(\\frac{w_t}{(1-\\alpha) k_t^{\\alpha}}\\right) -\\rho z_{t-1} - (1-\\rho) \\mu}{\\sigma}\\right) $$"
   ]
  },
  {
   "cell_type": "code",
   "execution_count": 3,
   "metadata": {
    "collapsed": true
   },
   "outputs": [],
   "source": [
    "# want to use built in pdf\n",
    "\n",
    "import scipy.stats as sts\n",
    "import numpy as np \n",
    "\n",
    "def crit_norm(params,*args):\n",
    "    #alpha_0, rho_0, mu_0, sigma_0 = params\n",
    "    #alpha = np.exp(alpha_0)/(1+ np.exp(alpha_0)) # keep in (0,1)\n",
    "    #rho = 2*(np.exp(rho_0)/(1+np.exp(rho_0))) - 1 #keep in (-1,1)\n",
    "    #mu = np.exp(mu_0)\n",
    "    #sigma = np.exp(sigma_0)\n",
    "    alpha, rho, mu, sigma = params\n",
    "    kvals = np.array(args[0])\n",
    "    wvals = np.array(args[1])\n",
    "    zvals = np.array(np.log(wvals/((1-alpha)*(kvals**alpha))))\n",
    "    lag_zvals = np.roll(zvals,1)\n",
    "    lag_zvals[0] = mu\n",
    "    mus = rho*lag_zvals + (1-rho)*mu\n",
    "    xvals = zvals-mus\n",
    "    log_lik_val = sts.norm.logpdf(xvals,loc=0,scale=sigma).sum()\n",
    "    neg_log_lik_val = -log_lik_val\n",
    "    \n",
    "    return neg_log_lik_val"
   ]
  },
  {
   "cell_type": "code",
   "execution_count": 11,
   "metadata": {
    "collapsed": false
   },
   "outputs": [
    {
     "name": "stderr",
     "output_type": "stream",
     "text": [
      "C:\\Users\\Olivia\\Anaconda\\lib\\site-packages\\ipykernel\\__main__.py:15: RuntimeWarning: divide by zero encountered in divide\n",
      "C:\\Users\\Olivia\\Anaconda\\lib\\site-packages\\ipykernel\\__main__.py:19: RuntimeWarning: invalid value encountered in subtract\n"
     ]
    },
    {
     "data": {
      "text/plain": [
       "      fun: 88.879758042295094\n",
       " hess_inv: <4x4 LbfgsInvHessProduct with dtype=float64>\n",
       "      jac: array([-555.11958976, -648.92976894,  -40.31299028,  -82.613046  ])\n",
       "  message: 'CONVERGENCE: REL_REDUCTION_OF_F_<=_FACTR*EPSMCH'\n",
       "     nfev: 140\n",
       "      nit: 3\n",
       "   status: 0\n",
       "  success: True\n",
       "        x: array([ 0.51320736,  0.86592634,  5.37711278,  0.48223028])"
      ]
     },
     "execution_count": 11,
     "metadata": {},
     "output_type": "execute_result"
    }
   ],
   "source": [
    "import scipy.optimize as opt\n",
    "params_init = np.array([0.5,0.5,10,2])\n",
    "mle1_args = (df['kt'] ,df['wt'])\n",
    "bounds1 = ((1e-8,1-1e-8),(-1+1e-8,1-1e-8),(0,None),(0,None))\n",
    "results = opt.minimize(crit_norm, params_init,args=(mle1_args),method='L-BFGS-B',tol=1e-13,bounds=bounds1,options={'maxiter':1000})\n",
    "alphaMLE1,rhoMLE1,muMLE1,sigmaMLE1 = results.x\n",
    "hinv1 = results.hess_inv\n",
    "results"
   ]
  },
  {
   "cell_type": "code",
   "execution_count": 15,
   "metadata": {
    "collapsed": false
   },
   "outputs": [
    {
     "data": {
      "text/plain": [
       "{'dtype': dtype('float64'),\n",
       " 'n_corrs': 0L,\n",
       " 'rho': array([], dtype=float64),\n",
       " 'shape': (4L, 4L),\n",
       " 'sk': array([], shape=(0L, 4L), dtype=float64),\n",
       " 'yk': array([], shape=(0L, 4L), dtype=float64)}"
      ]
     },
     "execution_count": 15,
     "metadata": {},
     "output_type": "execute_result"
    }
   ],
   "source": [
    "results.hess_inv.__dict__"
   ]
  },
  {
   "cell_type": "code",
   "execution_count": 16,
   "metadata": {
    "collapsed": false
   },
   "outputs": [
    {
     "name": "stderr",
     "output_type": "stream",
     "text": [
      "C:\\Users\\Olivia\\Anaconda\\lib\\site-packages\\ipykernel\\__main__.py:15: RuntimeWarning: divide by zero encountered in divide\n",
      "C:\\Users\\Olivia\\Anaconda\\lib\\site-packages\\ipykernel\\__main__.py:19: RuntimeWarning: invalid value encountered in subtract\n",
      "C:\\Users\\Olivia\\Anaconda\\lib\\site-packages\\ipykernel\\__main__.py:15: RuntimeWarning: invalid value encountered in power\n",
      "C:\\Users\\Olivia\\Anaconda\\lib\\site-packages\\scipy\\stats\\_distn_infrastructure.py:1688: RuntimeWarning: invalid value encountered in greater\n",
      "  cond0 = self._argcheck(*args) & (scale > 0)\n",
      "C:\\Users\\Olivia\\Anaconda\\lib\\site-packages\\scipy\\stats\\_distn_infrastructure.py:1689: RuntimeWarning: invalid value encountered in greater\n",
      "  cond1 = self._support_mask(x) & (scale > 0)\n"
     ]
    },
    {
     "data": {
      "text/plain": [
       "                        fun: -96.70690808931181\n",
       " lowest_optimization_result:       fun: -96.70690808931181\n",
       " hess_inv: <4x4 LbfgsInvHessProduct with dtype=float64>\n",
       "      jac: array([ 0.00593872,  0.00036948,  0.0003709 ,  0.0042661 ])\n",
       "  message: 'CONVERGENCE: REL_REDUCTION_OF_F_<=_FACTR*EPSMCH'\n",
       "     nfev: 295\n",
       "      nit: 39\n",
       "   status: 0\n",
       "  success: True\n",
       "        x: array([ 0.45755028,  0.72046636,  9.52224506,  0.09199641])\n",
       "                    message: ['requested number of basinhopping iterations completed successfully']\n",
       "      minimization_failures: 937\n",
       "                       nfev: 157175\n",
       "                        nit: 1000\n",
       "                          x: array([ 0.45755028,  0.72046636,  9.52224506,  0.09199641])"
      ]
     },
     "execution_count": 16,
     "metadata": {},
     "output_type": "execute_result"
    }
   ],
   "source": [
    "# Let's try scipy.optimize.basinhopping\n",
    "import scipy.optimize as opt\n",
    "bh_results = opt.basinhopping(crit_norm, params_init,niter=1000, minimizer_kwargs={'args':(mle1_args),'method':'L-BFGS-B','tol':1e-13,'bounds':bounds1})\n",
    "bh_results"
   ]
  },
  {
   "cell_type": "code",
   "execution_count": 17,
   "metadata": {
    "collapsed": false
   },
   "outputs": [
    {
     "name": "stdout",
     "output_type": "stream",
     "text": [
      "Results from Part a\n",
      "('Alpha_hat = ', 0.45755028189592323)\n",
      "('Rho_hat = ', 0.72046635911867463)\n",
      "('Mu_hat = ', 9.5222450572947999)\n",
      "('Sigma_hat =', 0.091996411640468054)\n",
      "('LL= ', -96.70690808931181)\n"
     ]
    }
   ],
   "source": [
    "# Print results:\n",
    "print('Results from Part a')\n",
    "print('Alpha_hat = ',bh_results.x[0])\n",
    "print('Rho_hat = ',bh_results.x[1])\n",
    "print('Mu_hat = ',bh_results.x[2])\n",
    "print('Sigma_hat =',bh_results.x[3])\n",
    "print('LL= ',bh_results.fun)"
   ]
  },
  {
   "cell_type": "code",
   "execution_count": 22,
   "metadata": {
    "collapsed": false
   },
   "outputs": [
    {
     "name": "stdout",
     "output_type": "stream",
     "text": [
      "{'yk': array([[  3.38924764e+00,  -1.51243569e+00,   2.75657897e-01,\n",
      "          2.48959395e+00],\n",
      "       [  8.41318553e+00,  -1.71856271e+00,   6.76322998e-01,\n",
      "          9.83733202e+00],\n",
      "       [ -1.63485083e+00,   1.30194167e-01,  -1.31939260e-01,\n",
      "         -4.76093476e-01],\n",
      "       [  9.77108243e+00,   6.95251856e-02,   6.86641499e-01,\n",
      "         -1.04925988e+00],\n",
      "       [ -3.95713755e+00,  -2.90270918e-02,  -2.82901169e-01,\n",
      "          5.30303623e-01],\n",
      "       [  7.13328063e-01,  -5.49533752e-03,   5.17047738e-02,\n",
      "         -2.05986339e-02],\n",
      "       [ -4.84448037e-03,  -4.78905804e-04,  -3.35376171e-04,\n",
      "         -3.22586402e-04],\n",
      "       [  7.18500814e-03,   2.51532128e-04,   4.39115411e-04,\n",
      "          4.17230694e-03],\n",
      "       [ -2.01733883e+00,   3.52045504e-02,  -1.54511781e-01,\n",
      "         -1.68897287e+00],\n",
      "       [ -2.20445855e+01,  -9.19085608e-01,  -1.60930540e+00,\n",
      "         -6.73451979e+00]]), 'n_corrs': 10L, 'dtype': dtype('float64'), 'sk': array([[  1.41318924e-02,  -1.62896060e-02,  -1.98300347e-01,\n",
      "          8.16191445e-05],\n",
      "       [  3.97276550e-03,  -1.09129158e-02,  -5.50678452e-02,\n",
      "          4.06043138e-04],\n",
      "       [  5.09212923e-03,  -2.97575639e-03,  -7.14677322e-02,\n",
      "         -2.10581422e-05],\n",
      "       [  5.23026909e-03,  -3.38210345e-03,  -7.25103769e-02,\n",
      "         -4.48137964e-05],\n",
      "       [  9.92192740e-04,  -8.76312660e-04,  -1.41505056e-02,\n",
      "          2.23968018e-05],\n",
      "       [ -2.63019631e-04,   1.66037206e-04,   3.72729441e-03,\n",
      "         -8.73409550e-07],\n",
      "       [  1.98214651e-05,  -1.67334474e-05,  -2.77512957e-04,\n",
      "         -1.34685352e-08],\n",
      "       [  3.21785966e-05,  -2.20637537e-05,  -4.49473555e-04,\n",
      "          1.76366668e-07],\n",
      "       [  3.48853368e-03,  -1.85707881e-03,  -4.96859477e-02,\n",
      "         -7.61144724e-05],\n",
      "       [  2.94970248e-02,  -2.19797241e-02,  -4.18799296e-01,\n",
      "         -3.23621075e-04]]), 'shape': (4L, 4L), 'rho': array([  5.53292999e+01,   5.28293428e+01,   1.37527465e+03,\n",
      "         8.86024867e+02,   8.75155985e+03,   2.37801327e+05,\n",
      "         1.97448021e+08,   3.44603873e+07,   1.42310775e+03,\n",
      "         2.16886976e+01])}\n"
     ]
    }
   ],
   "source": [
    "print(bh_results.lowest_optimization_result.hess_inv.__dict__)"
   ]
  },
  {
   "cell_type": "markdown",
   "metadata": {},
   "source": [
    "## part (b)\n",
    "\n",
    "We will not use other set of data and model equations to estimate the four parameters - $(r_t, k_t)$. \n",
    "\n",
    "Recall we can rearrange $$r_t - \\alpha exp(z_t) k_t^{\\alpha-1}=0$$\n",
    "$$z_t = \\rho z_{t-1} + (1-\\rho) \\mu + \\epsilon_t$$\n",
    "$$where \\;\\; \\epsilon_t \\sim N(0, \\sigma^2)$$\n",
    "\n",
    "and get \n",
    "$$log\\left(\\frac{r_t}{\\alpha k_t^{\\alpha-1}}\\right) = z_t$$\n",
    "\n",
    "Then our likelihood for each time period is:\n",
    "$$\\mathcal{L}(\\alpha,\\rho,\\mu,\\sigma|r_t,k_t,z_{t-1}) = \\phi\\left(\\frac{log\\left(\\frac{r_t}{\\alpha k_t^{\\alpha-1}}\\right) -\\rho z_{t-1} - (1-\\rho) \\mu}{\\sigma}\\right) $$\n",
    "\n",
    "Where $\\phi()$ is the standard normal PDF. We again sequentially condition and use $\\mu$ as the value of $z_0$. \n",
    "\n"
   ]
  },
  {
   "cell_type": "code",
   "execution_count": 24,
   "metadata": {
    "collapsed": false
   },
   "outputs": [],
   "source": [
    "def crit_norm2(params,*args):\n",
    "    alpha, rho, mu, sigma = params\n",
    "    kvals = np.array(args[0])\n",
    "    rvals = np.array(args[1])\n",
    "    zvals = np.array(np.log(rvals/(alpha*(kvals**(alpha-1)))))\n",
    "    lag_zvals = np.roll(zvals,1)\n",
    "    lag_zvals[0] = mu\n",
    "    mus = rho*lag_zvals + (1-rho)*mu\n",
    "    xvals = zvals-mus\n",
    "    log_lik_val = sts.norm.logpdf(xvals,loc=0,scale=sigma).sum()\n",
    "    neg_log_lik_val = -log_lik_val\n",
    "    \n",
    "    return neg_log_lik_val"
   ]
  },
  {
   "cell_type": "code",
   "execution_count": 25,
   "metadata": {
    "collapsed": false
   },
   "outputs": [
    {
     "data": {
      "text/plain": [
       "74.580791965167649"
      ]
     },
     "execution_count": 25,
     "metadata": {},
     "output_type": "execute_result"
    }
   ],
   "source": [
    "crit_norm2(results.x,df['kt'],df['rt'])"
   ]
  },
  {
   "cell_type": "code",
   "execution_count": 26,
   "metadata": {
    "collapsed": false
   },
   "outputs": [],
   "source": [
    "import scipy.optimize as opt\n",
    "params_init2 = np.array([0.1,0.9,10,1])\n",
    "mle2_args = (df['kt'] ,df['rt'])\n",
    "bounds2 = ((1e-8,1-1e-8),(-1+1e-8,1-1e-8),(0,None),(0,None))\n",
    "results2 = opt.minimize(crit_norm2, params_init2,args=(mle2_args),method='L-BFGS-B',tol=1e-12,bounds=bounds2,options={'maxiter':1000})\n",
    "alphaMLE2,rhoMLE2,muMLE2,sigmaMLE2 = results2.x"
   ]
  },
  {
   "cell_type": "code",
   "execution_count": 27,
   "metadata": {
    "collapsed": false
   },
   "outputs": [
    {
     "data": {
      "text/plain": [
       "      fun: -96.706908041157121\n",
       " hess_inv: <4x4 LbfgsInvHessProduct with dtype=float64>\n",
       "      jac: array([-0.00339639,  0.00019895, -0.00019043,  0.00138982])\n",
       "  message: 'CONVERGENCE: REL_REDUCTION_OF_F_<=_FACTR*EPSMCH'\n",
       "     nfev: 465\n",
       "      nit: 47\n",
       "   status: 0\n",
       "  success: True\n",
       "        x: array([ 0.45749022,  0.72050916,  9.37076158,  0.09199629])"
      ]
     },
     "execution_count": 27,
     "metadata": {},
     "output_type": "execute_result"
    }
   ],
   "source": [
    "results2"
   ]
  },
  {
   "cell_type": "code",
   "execution_count": 28,
   "metadata": {
    "collapsed": false
   },
   "outputs": [
    {
     "name": "stderr",
     "output_type": "stream",
     "text": [
      "C:\\Users\\Olivia\\Anaconda\\lib\\site-packages\\ipykernel\\__main__.py:5: RuntimeWarning: invalid value encountered in power\n"
     ]
    },
    {
     "data": {
      "text/plain": [
       "                        fun: -96.706908083098966\n",
       " lowest_optimization_result:       fun: -96.706908083098966\n",
       " hess_inv: <4x4 LbfgsInvHessProduct with dtype=float64>\n",
       "      jac: array([  2.20268248e-04,  -8.24229573e-04,  -2.41584530e-05,\n",
       "        -9.95612481e-03])\n",
       "  message: 'CONVERGENCE: REL_REDUCTION_OF_F_<=_FACTR*EPSMCH'\n",
       "     nfev: 435\n",
       "      nit: 54\n",
       "   status: 0\n",
       "  success: True\n",
       "        x: array([ 0.4575403 ,  0.7204678 ,  9.36985968,  0.09199581])\n",
       "                    message: ['requested number of basinhopping iterations completed successfully']\n",
       "      minimization_failures: 957\n",
       "                       nfev: 246570\n",
       "                        nit: 1000\n",
       "                          x: array([ 0.4575403 ,  0.7204678 ,  9.36985968,  0.09199581])"
      ]
     },
     "execution_count": 28,
     "metadata": {},
     "output_type": "execute_result"
    }
   ],
   "source": [
    "# Let's try scipy.optimize.basinhopping\n",
    "import scipy.optimize as opt\n",
    "bh_results2 = opt.basinhopping(crit_norm2, params_init2,niter=1000, minimizer_kwargs={'args':(mle2_args),'method':'L-BFGS-B','tol':1e-13,'bounds':bounds2})\n",
    "bh_results2"
   ]
  },
  {
   "cell_type": "code",
   "execution_count": 29,
   "metadata": {
    "collapsed": false
   },
   "outputs": [
    {
     "name": "stdout",
     "output_type": "stream",
     "text": [
      "Results from Part b\n",
      "('Alpha_hat = ', 0.45754029782206529)\n",
      "('Rho_hat = ', 0.72046779906075087)\n",
      "('Mu_hat = ', 9.3698596830672685)\n",
      "('Sigma_hat =', 0.091995809893578029)\n",
      "('LL= ', -96.706908083098966)\n"
     ]
    }
   ],
   "source": [
    "# Print results:\n",
    "print('Results from Part b')\n",
    "print('Alpha_hat = ',bh_results2.x[0])\n",
    "print('Rho_hat = ',bh_results2.x[1])\n",
    "print('Mu_hat = ',bh_results2.x[2])\n",
    "print('Sigma_hat =',bh_results2.x[3])\n",
    "print('LL= ',bh_results2.fun)"
   ]
  },
  {
   "cell_type": "code",
   "execution_count": 30,
   "metadata": {
    "collapsed": false
   },
   "outputs": [
    {
     "name": "stdout",
     "output_type": "stream",
     "text": [
      "{'yk': array([[  3.89005663e+00,   2.07698747e-01,   2.05503170e-01,\n",
      "          2.54121346e-01],\n",
      "       [ -1.50177755e+00,   3.41444206e-02,  -8.47990123e-02,\n",
      "         -3.43253248e-01],\n",
      "       [ -3.76944342e-01,   1.62685865e-02,  -2.12722284e-02,\n",
      "         -1.62037850e-01],\n",
      "       [ -5.88064509e+01,   8.06039679e-02,  -3.25338760e+00,\n",
      "         -1.35243710e+00],\n",
      "       [  1.12254327e+01,  -2.62754440e-01,   5.66166136e-01,\n",
      "          9.64334390e+00],\n",
      "       [  5.89620498e+01,  -6.60416788e-01,   3.25724727e+00,\n",
      "          1.08914364e+01],\n",
      "       [ -4.12947770e+01,  -5.20174126e-02,  -2.30264590e+00,\n",
      "          2.35864661e+00],\n",
      "       [  2.09571311e+01,  -1.10165388e-01,   1.16834400e+00,\n",
      "         -1.52021187e+00],\n",
      "       [  5.15328225e+00,  -6.79321488e-02,   2.85142221e-01,\n",
      "         -1.12806617e+00],\n",
      "       [  1.04499662e+00,   1.41312739e-02,   5.29126964e-02,\n",
      "         -1.58016178e+00]]), 'n_corrs': 10L, 'dtype': dtype('float64'), 'sk': array([[  1.87082337e-03,  -3.23515018e-04,  -3.34930618e-02,\n",
      "          1.05915851e-05],\n",
      "       [  2.77482200e-05,   1.44322458e-04,  -5.80101552e-04,\n",
      "         -1.45458966e-05],\n",
      "       [ -2.76157469e-04,   2.79783920e-04,   4.95393444e-03,\n",
      "         -6.85958943e-06],\n",
      "       [  1.60181783e-02,  -9.24052831e-03,  -2.97802778e-01,\n",
      "         -7.42726279e-05],\n",
      "       [  2.09861624e-02,  -1.44296558e-02,  -3.81584361e-01,\n",
      "          3.72838334e-04],\n",
      "       [  9.63054087e-03,  -9.42011100e-03,  -1.71131522e-01,\n",
      "          4.48317651e-04],\n",
      "       [  1.38450932e-02,  -9.99279366e-03,  -2.52639260e-01,\n",
      "          9.77745959e-05],\n",
      "       [ -1.60119511e-03,   6.24168203e-04,   3.00555927e-02,\n",
      "         -6.56918955e-05],\n",
      "       [  2.46881229e-03,  -2.07838433e-03,  -4.42636633e-02,\n",
      "         -4.83281789e-05],\n",
      "       [  3.81515690e-03,  -2.67412255e-03,  -6.87269340e-02,\n",
      "         -6.73078465e-05]]), 'shape': (4L, 4L), 'rho': array([  3.02868440e+03,   5.73357743e+04,   2.28416242e+05,\n",
      "         3.80933853e+01,   3.71395494e+01,   4.64624231e+01,\n",
      "         9.29442810e+01,   6.28962758e+02,   3.36979670e+03,\n",
      "         2.38739146e+03])}\n"
     ]
    }
   ],
   "source": [
    "print(bh_results2.lowest_optimization_result.hess_inv.__dict__)"
   ]
  },
  {
   "cell_type": "markdown",
   "metadata": {},
   "source": [
    "## Part (c)\n",
    "We take our results from the first MLE results, and we want to compute the probability that the interest rate is greater than 1 given $k_t = 7,500,000$ and $z_{t-1} = 10$. \n",
    "\n",
    "First, consider that $$ r_t = \\alpha exp(z_t) k_t^{\\alpha-1}$$\n",
    "\n",
    "Thus the distribution of $r_t | \\alpha,\\rho, \\mu, \\sigma, z_{t-1}, k_t$ is fully specified and lognormal. Given parameter estimates and $z_{t-1}$, $$z_t|z_{t-1},\\hat\\rho,\\hat\\mu,\\hat\\sigma \\sim N(\\hat\\rho z_{t-1} + (1-\\hat\\rho) \\hat\\mu, \\hat\\sigma^2)$$\n",
    "\n",
    "\n",
    "This implies that $exp(z_t)|z_{t-1},\\hat\\rho,\\hat\\mu,\\hat\\sigma \\sim logN(\\hat\\rho z_{t-1} + (1-\\hat\\rho) \\hat\\mu, \\hat\\sigma^2)$\n",
    "\n",
    "\n",
    "Then $r_t$ is distributed as a transformation of a lognormal, and $log(r_t) = log(\\alpha)+ z_t + (\\alpha-1)log(k_t)$. In particular, we can then write: \n",
    "\n",
    "$$ log(r_t)|\\hat\\alpha, \\hat\\rho,\\hat\\mu,\\hat\\sigma,z_{t-1},k_t \\sim N(log(\\hat\\alpha) + (\\hat\\alpha-1)log(k_t) +\\hat\\rho z_{t-1} + (1-\\hat\\rho) \\hat\\mu, \\hat\\sigma^2)$$\n",
    "\n",
    "Remember we are trying to figure out $Pr(r_t>1|...)$ - if we take logs, this is the same as $Pr(log(r_t)>0|...)$ and we can use the normal cdf."
   ]
  },
  {
   "cell_type": "code",
   "execution_count": 31,
   "metadata": {
    "collapsed": false
   },
   "outputs": [
    {
     "data": {
      "text/plain": [
       "0.99999996786772682"
      ]
     },
     "execution_count": 31,
     "metadata": {},
     "output_type": "execute_result"
    }
   ],
   "source": [
    "mean_hat = np.log(bh_results.x[0]) + (bh_results.x[0]-1)*np.log(7500000) + bh_results.x[1]*10 + (1-bh_results.x[1])*bh_results.x[2]\n",
    "prob_rt_over_1 = 1-sts.norm.cdf(0,loc=mean_hat,scale=bh_results.x[3])\n",
    "prob_rt_over_1"
   ]
  },
  {
   "cell_type": "code",
   "execution_count": 32,
   "metadata": {
    "collapsed": false
   },
   "outputs": [
    {
     "data": {
      "text/plain": [
       "[<matplotlib.lines.Line2D at 0xba37278>]"
      ]
     },
     "execution_count": 32,
     "metadata": {},
     "output_type": "execute_result"
    },
    {
     "data": {
      "image/png": "[encoded data removed]",
      "text/plain": [
       "<matplotlib.figure.Figure at 0xa122fd0>"
      ]
     },
     "metadata": {},
     "output_type": "display_data"
    }
   ],
   "source": [
    "mpl.scatter(df['rt'],df['kt'])\n",
    "mpl.ylim(6500000, 8500000)\n",
    "mpl.plot((1,1), (6500000, 8500000))"
   ]
  },
  {
   "cell_type": "code",
   "execution_count": 33,
   "metadata": {
    "collapsed": false
   },
   "outputs": [
    {
     "data": {
      "text/plain": [
       "count    22.000000\n",
       "mean      1.022400\n",
       "std       0.111248\n",
       "min       0.819379\n",
       "25%       0.937132\n",
       "50%       1.020793\n",
       "75%       1.117244\n",
       "max       1.233322\n",
       "Name: rt, dtype: float64"
      ]
     },
     "execution_count": 33,
     "metadata": {},
     "output_type": "execute_result"
    }
   ],
   "source": [
    "df.loc[(df['kt']>7000000)&(df['kt']<8000000)]['rt'].describe()"
   ]
  },
  {
   "cell_type": "markdown",
   "metadata": {},
   "source": [
    "We are finding it is highly likely we would ever have an interest rate below 1. Why might this be?\n",
    "I printed the above graph to see what the distribution of interest rates and capital we observe in the data to see what the unconditional (on Z_t, params) probability of observing interest rate above 1 is in this range of capital expenditure.\n",
    "\n",
    "Let's see the likelihood that z_t=10, more or less:"
   ]
  },
  {
   "cell_type": "code",
   "execution_count": 34,
   "metadata": {
    "collapsed": true
   },
   "outputs": [],
   "source": [
    "def fitted_zvals(params, *args):\n",
    "    alpha = params\n",
    "    kvals = np.array(args[0])\n",
    "    wvals = np.array(args[1])\n",
    "    zvals = np.array(np.log(wvals/((1-alpha)*(kvals**alpha))))\n",
    "    \n",
    "    return zvals"
   ]
  },
  {
   "cell_type": "code",
   "execution_count": 35,
   "metadata": {
    "collapsed": false
   },
   "outputs": [
    {
     "data": {
      "text/plain": [
       "<matplotlib.axes._subplots.AxesSubplot at 0xbb41d30>"
      ]
     },
     "execution_count": 35,
     "metadata": {},
     "output_type": "execute_result"
    },
    {
     "data": {
      "image/png": "[encoded data removed]",
      "text/plain": [
       "<matplotlib.figure.Figure at 0xa42eef0>"
      ]
     },
     "metadata": {},
     "output_type": "display_data"
    }
   ],
   "source": [
    "fitted_z =fitted_zvals(bh_results.x[0],df['kt'],df['wt'])\n",
    "sns.distplot(fitted_z)"
   ]
  },
  {
   "cell_type": "code",
   "execution_count": 36,
   "metadata": {
    "collapsed": false
   },
   "outputs": [
    {
     "data": {
      "text/html": [
       "<div>\n",
       "<table border=\"1\" class=\"dataframe\">\n",
       "  <thead>\n",
       "    <tr style=\"text-align: right;\">\n",
       "      <th></th>\n",
       "      <th>0</th>\n",
       "    </tr>\n",
       "  </thead>\n",
       "  <tbody>\n",
       "    <tr>\n",
       "      <th>count</th>\n",
       "      <td>100.000000</td>\n",
       "    </tr>\n",
       "    <tr>\n",
       "      <th>mean</th>\n",
       "      <td>9.519403</td>\n",
       "    </tr>\n",
       "    <tr>\n",
       "      <th>std</th>\n",
       "      <td>0.132427</td>\n",
       "    </tr>\n",
       "    <tr>\n",
       "      <th>min</th>\n",
       "      <td>9.282864</td>\n",
       "    </tr>\n",
       "    <tr>\n",
       "      <th>25%</th>\n",
       "      <td>9.430674</td>\n",
       "    </tr>\n",
       "    <tr>\n",
       "      <th>50%</th>\n",
       "      <td>9.501164</td>\n",
       "    </tr>\n",
       "    <tr>\n",
       "      <th>75%</th>\n",
       "      <td>9.583744</td>\n",
       "    </tr>\n",
       "    <tr>\n",
       "      <th>max</th>\n",
       "      <td>9.909186</td>\n",
       "    </tr>\n",
       "  </tbody>\n",
       "</table>\n",
       "</div>"
      ],
      "text/plain": [
       "                0\n",
       "count  100.000000\n",
       "mean     9.519403\n",
       "std      0.132427\n",
       "min      9.282864\n",
       "25%      9.430674\n",
       "50%      9.501164\n",
       "75%      9.583744\n",
       "max      9.909186"
      ]
     },
     "execution_count": 36,
     "metadata": {},
     "output_type": "execute_result"
    }
   ],
   "source": [
    "pd.DataFrame(fitted_z).describe()"
   ]
  },
  {
   "cell_type": "markdown",
   "metadata": {},
   "source": [
    "The counterfactual uses a Z value outside of the range of fitted values - so perhaps we aren't the most confident in the counterfactual prediction given this dataset"
   ]
  }
 ],
 "metadata": {
  "kernelspec": {
   "display_name": "Python 2",
   "language": "python",
   "name": "python2"
  },
  "language_info": {
   "codemirror_mode": {
    "name": "ipython",
    "version": 2
   },
   "file_extension": ".py",
   "mimetype": "text/x-python",
   "name": "python",
   "nbconvert_exporter": "python",
   "pygments_lexer": "ipython2",
   "version": "2.7.13"
  }
 },
 "nbformat": 4,
 "nbformat_minor": 0
}
